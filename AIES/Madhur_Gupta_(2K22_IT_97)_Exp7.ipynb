{
  "nbformat": 4,
  "nbformat_minor": 0,
  "metadata": {
    "colab": {
      "provenance": [],
      "gpuType": "T4"
    },
    "kernelspec": {
      "name": "python3",
      "display_name": "Python 3"
    },
    "language_info": {
      "name": "python"
    },
    "accelerator": "GPU"
  },
  "cells": [
    {
      "cell_type": "markdown",
      "source": [
        "Aim: Write a program to solve n-Queen problem in python."
      ],
      "metadata": {
        "id": "6GG0XkaEuGg3"
      }
    },
    {
      "cell_type": "code",
      "execution_count": 1,
      "metadata": {
        "id": "UevooENntCg2"
      },
      "outputs": [],
      "source": [
        "def is_possible(board, position):\n",
        "    n = len(board)\n",
        "    r, c = position\n",
        "    for i in range(c):\n",
        "        if board[r][i] == 'Q':\n",
        "            return False\n",
        "    x = 1\n",
        "    while r - x >= 0 and c - x >= 0:\n",
        "        if board[r-x][c-x] == 'Q':\n",
        "            return False\n",
        "        x += 1\n",
        "    x = 1\n",
        "    while r + x < n and c - x >= 0:\n",
        "        if board[r+x][c-x] == 'Q':\n",
        "            return False\n",
        "        x += 1\n",
        "    return True"
      ]
    },
    {
      "cell_type": "code",
      "source": [
        "import copy\n",
        "\n",
        "def backtrack(board, col, ans):\n",
        "    n = len(board)\n",
        "    if col == n:\n",
        "        ans.append(copy.deepcopy(board))\n",
        "        return True\n",
        "    res = False\n",
        "    for i in range(n):\n",
        "        if is_possible(board, (i, col)):\n",
        "            board[i][col] = 'Q'\n",
        "            if backtrack(board, col+1, ans):\n",
        "                res = True\n",
        "            board[i][col] = '.'\n",
        "    return res"
      ],
      "metadata": {
        "id": "yUWuIJMuuLzJ"
      },
      "execution_count": 2,
      "outputs": []
    },
    {
      "cell_type": "code",
      "source": [
        "n = 5\n",
        "board = []\n",
        "for i in range(n):\n",
        "    row = []\n",
        "    for j in range(n):\n",
        "        row.append('.')\n",
        "    board.append(row)\n",
        "board"
      ],
      "metadata": {
        "colab": {
          "base_uri": "https://localhost:8080/"
        },
        "id": "rZDqSqfWuVpO",
        "outputId": "d17b0297-8dab-4129-ec1a-d43c9ee8f170"
      },
      "execution_count": 3,
      "outputs": [
        {
          "output_type": "execute_result",
          "data": {
            "text/plain": [
              "[['.', '.', '.', '.', '.'],\n",
              " ['.', '.', '.', '.', '.'],\n",
              " ['.', '.', '.', '.', '.'],\n",
              " ['.', '.', '.', '.', '.'],\n",
              " ['.', '.', '.', '.', '.']]"
            ]
          },
          "metadata": {},
          "execution_count": 3
        }
      ]
    },
    {
      "cell_type": "code",
      "source": [
        "ans = []\n",
        "backtrack(board, 0, ans)"
      ],
      "metadata": {
        "colab": {
          "base_uri": "https://localhost:8080/"
        },
        "id": "eJ5HXtnmuYhc",
        "outputId": "6766f871-4462-40e7-f13f-ec51cc51e5f3"
      },
      "execution_count": 4,
      "outputs": [
        {
          "output_type": "execute_result",
          "data": {
            "text/plain": [
              "True"
            ]
          },
          "metadata": {},
          "execution_count": 4
        }
      ]
    },
    {
      "cell_type": "code",
      "source": [
        "for sol in ans:\n",
        "    print(sol)\n",
        "    print()\n",
        "print(len(ans))"
      ],
      "metadata": {
        "colab": {
          "base_uri": "https://localhost:8080/"
        },
        "id": "5Xhm_ovmuaPd",
        "outputId": "281a9924-a240-4a66-f290-d5f247065bbe"
      },
      "execution_count": 5,
      "outputs": [
        {
          "output_type": "stream",
          "name": "stdout",
          "text": [
            "[['Q', '.', '.', '.', '.'], ['.', '.', '.', 'Q', '.'], ['.', 'Q', '.', '.', '.'], ['.', '.', '.', '.', 'Q'], ['.', '.', 'Q', '.', '.']]\n",
            "\n",
            "[['Q', '.', '.', '.', '.'], ['.', '.', 'Q', '.', '.'], ['.', '.', '.', '.', 'Q'], ['.', 'Q', '.', '.', '.'], ['.', '.', '.', 'Q', '.']]\n",
            "\n",
            "[['.', '.', 'Q', '.', '.'], ['Q', '.', '.', '.', '.'], ['.', '.', '.', 'Q', '.'], ['.', 'Q', '.', '.', '.'], ['.', '.', '.', '.', 'Q']]\n",
            "\n",
            "[['.', '.', '.', 'Q', '.'], ['Q', '.', '.', '.', '.'], ['.', '.', 'Q', '.', '.'], ['.', '.', '.', '.', 'Q'], ['.', 'Q', '.', '.', '.']]\n",
            "\n",
            "[['.', 'Q', '.', '.', '.'], ['.', '.', '.', 'Q', '.'], ['Q', '.', '.', '.', '.'], ['.', '.', 'Q', '.', '.'], ['.', '.', '.', '.', 'Q']]\n",
            "\n",
            "[['.', '.', '.', '.', 'Q'], ['.', '.', 'Q', '.', '.'], ['Q', '.', '.', '.', '.'], ['.', '.', '.', 'Q', '.'], ['.', 'Q', '.', '.', '.']]\n",
            "\n",
            "[['.', 'Q', '.', '.', '.'], ['.', '.', '.', '.', 'Q'], ['.', '.', 'Q', '.', '.'], ['Q', '.', '.', '.', '.'], ['.', '.', '.', 'Q', '.']]\n",
            "\n",
            "[['.', '.', '.', '.', 'Q'], ['.', 'Q', '.', '.', '.'], ['.', '.', '.', 'Q', '.'], ['Q', '.', '.', '.', '.'], ['.', '.', 'Q', '.', '.']]\n",
            "\n",
            "[['.', '.', '.', 'Q', '.'], ['.', 'Q', '.', '.', '.'], ['.', '.', '.', '.', 'Q'], ['.', '.', 'Q', '.', '.'], ['Q', '.', '.', '.', '.']]\n",
            "\n",
            "[['.', '.', 'Q', '.', '.'], ['.', '.', '.', '.', 'Q'], ['.', 'Q', '.', '.', '.'], ['.', '.', '.', 'Q', '.'], ['Q', '.', '.', '.', '.']]\n",
            "\n",
            "10\n"
          ]
        }
      ]
    }
  ]
}