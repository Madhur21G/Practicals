{
  "nbformat": 4,
  "nbformat_minor": 0,
  "metadata": {
    "colab": {
      "provenance": []
    },
    "kernelspec": {
      "name": "python3",
      "display_name": "Python 3"
    },
    "language_info": {
      "name": "python"
    }
  },
  "cells": [
    {
      "cell_type": "code",
      "execution_count": 14,
      "metadata": {
        "id": "mtSKLtmjHcPS"
      },
      "outputs": [],
      "source": [
        "#Tic-Tac-Toe\n",
        "\n",
        "import numpy as np\n",
        "import random\n",
        "from time import sleep"
      ]
    },
    {
      "cell_type": "code",
      "source": [
        "def create_board():\n",
        "    return np.array([[0, 0, 0], [0, 0, 0], [0, 0, 0]])"
      ],
      "metadata": {
        "id": "XW7Fy76LH7Nu"
      },
      "execution_count": 15,
      "outputs": []
    },
    {
      "cell_type": "code",
      "source": [
        "def possibilities(board):\n",
        "    l = []\n",
        "    for i in range(len(board)):\n",
        "        for j in range(len(board)):\n",
        "            if board[i][j] == 0:\n",
        "                l.append((i, j))\n",
        "    return l"
      ],
      "metadata": {
        "id": "gl0sJUZjIBJx"
      },
      "execution_count": 16,
      "outputs": []
    },
    {
      "cell_type": "code",
      "source": [
        "def random_place(board, player):\n",
        "    selection = possibilities(board)\n",
        "    current_loc = random.choice(selection)\n",
        "    board[current_loc] = player\n",
        "    return board"
      ],
      "metadata": {
        "id": "qq1BIvXUIFL4"
      },
      "execution_count": 17,
      "outputs": []
    },
    {
      "cell_type": "code",
      "source": [
        "def row_win(board, player):\n",
        "    for x in range(len(board)):\n",
        "        win = True\n",
        "        for y in range(len(board)):\n",
        "            if board[x, y] != player:\n",
        "                win = False\n",
        "                continue\n",
        "        if win:\n",
        "            return win\n",
        "    return False"
      ],
      "metadata": {
        "id": "9FbVC7o4IJa6"
      },
      "execution_count": 18,
      "outputs": []
    },
    {
      "cell_type": "code",
      "source": [
        "def col_win(board, player):\n",
        "    for x in range(len(board)):\n",
        "        win = True\n",
        "        for y in range(len(board)):\n",
        "            if board[y][x] != player:\n",
        "                win = False\n",
        "                continue\n",
        "        if win:\n",
        "            return win\n",
        "    return False"
      ],
      "metadata": {
        "id": "0GM5cLWaIXK4"
      },
      "execution_count": 19,
      "outputs": []
    },
    {
      "cell_type": "code",
      "source": [
        "def diag_win(board, player):\n",
        "    win = True\n",
        "    for x in range(len(board)):\n",
        "        if board[x, x] != player:\n",
        "            win = False\n",
        "    if win:\n",
        "        return win\n",
        "    win = True\n",
        "    for x in range(len(board)):\n",
        "        y = len(board) - 1 - x\n",
        "        if board[x, y] != player:\n",
        "            win = False\n",
        "    return win"
      ],
      "metadata": {
        "id": "lPZCIYSLIZR4"
      },
      "execution_count": 20,
      "outputs": []
    },
    {
      "cell_type": "code",
      "source": [
        "def evaluate(board):\n",
        "    winner = 0\n",
        "    for player in [1, 2]:\n",
        "        if (row_win(board, player) or\n",
        "                col_win(board, player) or\n",
        "                diag_win(board, player)):\n",
        "            winner = player\n",
        "            return winner\n",
        "    if np.all(board != 0):\n",
        "        winner = -1\n",
        "    return winner"
      ],
      "metadata": {
        "id": "lA1pj0VtIbaK"
      },
      "execution_count": 21,
      "outputs": []
    },
    {
      "cell_type": "code",
      "source": [
        "print(\"Winner is:\" + str(play_game()))"
      ],
      "metadata": {
        "colab": {
          "base_uri": "https://localhost:8080/"
        },
        "id": "l1Y7CN1tJUp2",
        "outputId": "61993067-7b4c-4c30-f222-13442287b227"
      },
      "execution_count": 22,
      "outputs": [
        {
          "output_type": "stream",
          "name": "stdout",
          "text": [
            "[[0 0 0]\n",
            " [0 0 0]\n",
            " [0 0 0]]\n",
            "Board after move 1\n",
            "[[0 0 0]\n",
            " [0 0 1]\n",
            " [0 0 0]]\n",
            "Board after move 2\n",
            "[[0 0 2]\n",
            " [0 0 1]\n",
            " [0 0 0]]\n",
            "Board after move 3\n",
            "[[0 1 2]\n",
            " [0 0 1]\n",
            " [0 0 0]]\n",
            "Board after move 4\n",
            "[[0 1 2]\n",
            " [0 2 1]\n",
            " [0 0 0]]\n",
            "Board after move 5\n",
            "[[0 1 2]\n",
            " [0 2 1]\n",
            " [0 1 0]]\n",
            "Board after move 6\n",
            "[[0 1 2]\n",
            " [0 2 1]\n",
            " [0 1 2]]\n",
            "Board after move 7\n",
            "[[0 1 2]\n",
            " [1 2 1]\n",
            " [0 1 2]]\n",
            "Board after move 8\n",
            "[[0 1 2]\n",
            " [1 2 1]\n",
            " [2 1 2]]\n",
            "Winner is:2\n"
          ]
        }
      ]
    },
    {
      "cell_type": "code",
      "source": [],
      "metadata": {
        "id": "6hiuhEJAJaxD"
      },
      "execution_count": null,
      "outputs": []
    }
  ]
}