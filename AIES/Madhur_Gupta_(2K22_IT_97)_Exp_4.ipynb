{
  "nbformat": 4,
  "nbformat_minor": 0,
  "metadata": {
    "colab": {
      "provenance": []
    },
    "kernelspec": {
      "name": "python3",
      "display_name": "Python 3"
    },
    "language_info": {
      "name": "python"
    }
  },
  "cells": [
    {
      "cell_type": "code",
      "source": [
        "# Write a program  to implement the DFS( depth first search) algorithm in python.\n",
        "\n",
        "def dfs(graph, start_node):\n",
        "  visited = set()\n",
        "  stack = [start_node]\n",
        "  traversal = []\n",
        "  while stack:\n",
        "    node = stack.pop()\n",
        "    if node not in visited:\n",
        "      visited.add(node)\n",
        "      traversal.append(node)\n",
        "      neighbors = graph.get(node, [])\n",
        "      for neighbor in reversed(neighbors):\n",
        "        if neighbor not in visited:\n",
        "          stack.append(neighbor)\n",
        "\n",
        "  return traversal\n",
        "\n",
        "graph = {\n",
        "    'A': ['B', 'C'],\n",
        "    'B': ['D', 'E'],\n",
        "    'C': ['F'],\n",
        "    'D': [],\n",
        "    'E': ['F'],\n",
        "    'F': []\n",
        "}\n",
        "start_node = 'A'\n",
        "dfs_traversal = dfs(graph, start_node)\n",
        "print(f\"DFS traversal starting from {start_node}: {dfs_traversal}\")"
      ],
      "metadata": {
        "colab": {
          "base_uri": "https://localhost:8080/"
        },
        "id": "KoSo-t679x8R",
        "outputId": "8abb0001-b0df-4fed-f4f6-1eb9ba0a3b2c"
      },
      "execution_count": 2,
      "outputs": [
        {
          "output_type": "stream",
          "name": "stdout",
          "text": [
            "DFS traversal starting from A: ['A', 'B', 'D', 'E', 'F', 'C']\n"
          ]
        }
      ]
    }
  ]
}