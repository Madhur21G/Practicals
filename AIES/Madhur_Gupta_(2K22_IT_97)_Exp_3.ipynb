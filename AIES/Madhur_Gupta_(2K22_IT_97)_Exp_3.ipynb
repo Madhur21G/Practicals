{
  "nbformat": 4,
  "nbformat_minor": 0,
  "metadata": {
    "colab": {
      "provenance": []
    },
    "kernelspec": {
      "name": "python3",
      "display_name": "Python 3"
    },
    "language_info": {
      "name": "python"
    }
  },
  "cells": [
    {
      "cell_type": "markdown",
      "source": [
        "Aim - Implement the steps of A* algorithm for 8-puzzle problem"
      ],
      "metadata": {
        "id": "1QeRQYAGDuEs"
      }
    },
    {
      "cell_type": "code",
      "execution_count": 7,
      "metadata": {
        "colab": {
          "base_uri": "https://localhost:8080/"
        },
        "id": "6JVZ8QrHDnqv",
        "outputId": "6bf70d3b-fe8a-4b07-bd8b-3fc97b345d85"
      },
      "outputs": [
        {
          "output_type": "stream",
          "name": "stdout",
          "text": [
            "Solution found: [1, 2, 3, 4, 5, 6, 7, 8, 0]\n"
          ]
        }
      ],
      "source": [
        "from queue import PriorityQueue\n",
        "\n",
        "def getblank_tile_idx(state):\n",
        "    return state.index(0)\n",
        "\n",
        "def get_possible_moves(state):\n",
        "    idx = getblank_tile_idx(state)\n",
        "    moves = []\n",
        "    if idx > 2:\n",
        "        nst = state[:]\n",
        "        nst[idx], nst[idx - 3] = nst[idx - 3], nst[idx]\n",
        "        moves.append(nst)\n",
        "    if idx < 6:\n",
        "        nst = state[:]\n",
        "        nst[idx], nst[idx + 3] = nst[idx + 3], nst[idx]\n",
        "        moves.append(nst)\n",
        "    if idx % 3 != 0:\n",
        "        nst = state[:]\n",
        "        nst[idx], nst[idx - 1] = nst[idx - 1], nst[idx]\n",
        "        moves.append(nst)\n",
        "    if idx % 3 != 2:\n",
        "        nst = state[:]\n",
        "        nst[idx], nst[idx + 1] = nst[idx + 1], nst[idx]\n",
        "        moves.append(nst)\n",
        "    return moves\n",
        "\n",
        "def manhattan(state):\n",
        "    goal = [1, 2, 3, 4, 5, 6, 7, 8, 0]\n",
        "    dist = 0\n",
        "    for i in range(3):\n",
        "        for j in range(3):\n",
        "            tile = state[3*i+j]\n",
        "            if tile != 0:\n",
        "                goal_pos = goal.index(tile)\n",
        "                dist += abs(i - goal_pos//3) + abs(j - goal_pos%3)\n",
        "    return dist\n",
        "\n",
        "def astar(initial):\n",
        "    pq = PriorityQueue()\n",
        "    pq.put((manhattan(initial), 0, initial))\n",
        "    st = set()\n",
        "    while not pq.empty():\n",
        "        (_, cost, curr) = pq.get()\n",
        "        st.add(tuple(curr))\n",
        "        if curr == [1, 2, 3, 4, 5, 6, 7, 8, 0]:\n",
        "            return curr\n",
        "        for nxt in get_possible_moves(curr):\n",
        "            if tuple(nxt) not in st:\n",
        "                step_cost = 1\n",
        "                pq.put((cost + step_cost + manhattan(nxt), cost + step_cost, nxt))\n",
        "    return None\n",
        "\n",
        "initial = [1, 2, 3, 4, 0, 5, 7, 8, 6]\n",
        "solution = astar(initial)\n",
        "\n",
        "if solution:\n",
        "    print(\"Solution found:\", solution)\n",
        "else:\n",
        "    print(\"Solution not found.\")"
      ]
    }
  ]
}