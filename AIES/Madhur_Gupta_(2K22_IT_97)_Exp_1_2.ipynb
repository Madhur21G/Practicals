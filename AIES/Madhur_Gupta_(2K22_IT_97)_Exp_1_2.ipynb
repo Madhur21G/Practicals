{
  "nbformat": 4,
  "nbformat_minor": 0,
  "metadata": {
    "colab": {
      "provenance": []
    },
    "kernelspec": {
      "name": "python3",
      "display_name": "Python 3"
    },
    "language_info": {
      "name": "python"
    }
  },
  "cells": [
    {
      "cell_type": "code",
      "execution_count": 20,
      "metadata": {
        "colab": {
          "base_uri": "https://localhost:8080/"
        },
        "id": "nsD8wSv4Db1a",
        "outputId": "87eb94e1-78eb-4654-b459-295c260171d7"
      },
      "outputs": [
        {
          "output_type": "stream",
          "name": "stdout",
          "text": [
            "{(4, 4), (4, 0), (0, 4), (3, 4), (0, 0), (4, 3), (0, 3), (3, 0), (3, 3)}\n"
          ]
        }
      ],
      "source": [
        "#Water Jug Problem BFS\n",
        "\n",
        "from collections import deque\n",
        "def bfs(start, end, q, visited):\n",
        "    if start == end:\n",
        "        return\n",
        "    for i in range(len(q)):\n",
        "        a, b = q[i]\n",
        "        for fill_a in [a, a-4, a-3, a+3, a+4]:\n",
        "            for fill_b in [b, b-4, b-3, b+3, b+4]:\n",
        "                if fill_a in [0, 3, 4] and fill_b in [0, 3, 4] and (fill_a, fill_b) not in visited:\n",
        "                    visited.add((fill_a, fill_b))\n",
        "                q.append((fill_a, fill_b))\n",
        "\n",
        "def main():\n",
        "    start = (0, 0)\n",
        "    end = (2, 0)\n",
        "    q = deque([start])\n",
        "    visited = set([start])\n",
        "    bfs(start, end, q, visited)\n",
        "    print(visited)\n",
        "\n",
        "main()"
      ]
    }
  ]
}