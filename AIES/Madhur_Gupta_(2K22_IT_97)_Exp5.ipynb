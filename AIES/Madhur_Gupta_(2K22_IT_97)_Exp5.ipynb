{
  "nbformat": 4,
  "nbformat_minor": 0,
  "metadata": {
    "colab": {
      "provenance": []
    },
    "kernelspec": {
      "name": "python3",
      "display_name": "Python 3"
    },
    "language_info": {
      "name": "python"
    }
  },
  "cells": [
    {
      "cell_type": "markdown",
      "source": [
        "Aim: Implement the hill climbing algoritm"
      ],
      "metadata": {
        "id": "Rr5grOclioR0"
      }
    },
    {
      "cell_type": "code",
      "source": [
        "import random\n",
        "\n",
        "def randomSolution(tsp):\n",
        "    a = list(range(len(tsp)))\n",
        "    ans = []\n",
        "    for i in range(len(tsp)):\n",
        "        rcity = a[random.randint(0, len(a) - 1)]\n",
        "        ans.append(rcity)\n",
        "        a.remove(rcity)\n",
        "    return ans\n",
        "\n",
        "def routeLength(tsp, ans):\n",
        "    sz = 0\n",
        "    for i in range(len(ans)):\n",
        "        sz += tsp[ans[i - 1]][ans[i]]\n",
        "    return sz\n",
        "\n",
        "def getneigh(ans):\n",
        "    neigh = []\n",
        "    for i in range(len(ans)):\n",
        "        for j in range(i + 1, len(ans)):\n",
        "            x = ans.copy()\n",
        "            x[i], x[j] = x[j], x[i]\n",
        "            neigh.append(x)\n",
        "    return neigh\n",
        "\n",
        "def getbestneigh(tsp, neigh):\n",
        "    x = routeLength(tsp, neigh[0])\n",
        "    y = neigh[0]\n",
        "    for z in neigh:\n",
        "        currrl = routeLength(tsp, z)\n",
        "        if currrl < x:\n",
        "            x = currrl\n",
        "            y = z\n",
        "    return y, x\n",
        "\n",
        "def hillClimbing(tsp):\n",
        "    curr = randomSolution(tsp)\n",
        "    currrl = routeLength(tsp, curr)\n",
        "    neigh = getneigh(curr)\n",
        "    x, y = getbestneigh(tsp, neigh)\n",
        "    while y < currrl:\n",
        "        curr = x\n",
        "        currrl = y\n",
        "        neigh = getneigh(curr)\n",
        "        x, y = getbestneigh(tsp, neigh)\n",
        "    return curr, currrl\n",
        "\n",
        "def main():\n",
        "    tsp = [\n",
        "        [0, 400, 500, 300],\n",
        "        [400, 0, 300, 500],\n",
        "        [500, 300, 0, 400],\n",
        "        [300, 500, 400, 0]\n",
        "    ]\n",
        "    print(hillClimbing(tsp))\n",
        "\n",
        "if __name__ == \"__main__\":\n",
        "    main()"
      ],
      "metadata": {
        "colab": {
          "base_uri": "https://localhost:8080/"
        },
        "id": "0kM3qL7Wi4io",
        "outputId": "bdf327b9-511d-40a5-d750-e03ee0ff63e5"
      },
      "execution_count": 18,
      "outputs": [
        {
          "output_type": "stream",
          "name": "stdout",
          "text": [
            "([1, 2, 3, 0], 1400)\n"
          ]
        }
      ]
    }
  ]
}