{
  "nbformat": 4,
  "nbformat_minor": 0,
  "metadata": {
    "colab": {
      "provenance": []
    },
    "kernelspec": {
      "name": "python3",
      "display_name": "Python 3"
    },
    "language_info": {
      "name": "python"
    }
  },
  "cells": [
    {
      "cell_type": "markdown",
      "source": [
        "Write a program to implement BFS (Best First Search) for 8-puzzle problem."
      ],
      "metadata": {
        "id": "3mj6wPNMHtQG"
      }
    },
    {
      "cell_type": "code",
      "source": [
        "from queue import PriorityQueue\n",
        "\n",
        "def getblank_tile_idx(state):\n",
        "    return state.index(0)\n",
        "\n",
        "def get_possible_moves(state):\n",
        "    idx = getblank_tile_idx(state)\n",
        "    moves = []\n",
        "    if idx > 2:\n",
        "        nst = state[:]\n",
        "        nst[idx], nst[idx - 3] = nst[idx - 3], nst[idx]\n",
        "        moves.append(nst)\n",
        "    if idx < 6:\n",
        "        nst = state[:]\n",
        "        nst[idx], nst[idx + 3] = nst[idx + 3], nst[idx]\n",
        "        moves.append(nst)\n",
        "    if idx % 3 != 0:\n",
        "        nst = state[:]\n",
        "        nst[idx], nst[idx - 1] = nst[idx - 1], nst[idx]\n",
        "        moves.append(nst)\n",
        "    if idx % 3 != 2:\n",
        "        nst = state[:]\n",
        "        nst[idx], nst[idx + 1] = nst[idx + 1], nst[idx]\n",
        "        moves.append(nst)\n",
        "    return moves\n",
        "\n",
        "def misplaced(state):\n",
        "    goal = [1, 2, 3, 4, 5, 6, 7, 8, 0]\n",
        "    return sum(s != g for s, g in zip(state, goal))\n",
        "\n",
        "def cal(initial):\n",
        "    frontier = PriorityQueue()\n",
        "    frontier.put((misplaced(initial), initial))\n",
        "    explored = set()\n",
        "    while not frontier.empty():\n",
        "        h, curr = frontier.get()\n",
        "        explored.add(tuple(curr))\n",
        "        if curr == [1, 2, 3, 4, 5, 6, 7, 8, 0]:\n",
        "            return curr\n",
        "        for nxt in get_possible_moves(curr):\n",
        "            if tuple(nxt) not in explored:\n",
        "                frontier.put((misplaced(nxt), nxt))\n",
        "    return None\n",
        "\n",
        "initial = [1, 2, 3, 4, 0, 5, 7, 8, 6]\n",
        "solution = cal(initial)\n",
        "if solution:\n",
        "    print(\"Solution found:\", solution)\n",
        "else:\n",
        "    print(\"Solution not found.\")"
      ],
      "metadata": {
        "colab": {
          "base_uri": "https://localhost:8080/"
        },
        "id": "uI8RjDh_Evmv",
        "outputId": "930e8045-c8c0-4b28-ead9-3f7a53aedd4e"
      },
      "execution_count": 3,
      "outputs": [
        {
          "output_type": "stream",
          "name": "stdout",
          "text": [
            "Solution found: [1, 2, 3, 4, 5, 6, 7, 8, 0]\n"
          ]
        }
      ]
    },
    {
      "cell_type": "markdown",
      "source": [
        "Write a program to implement LCS (Least Cost Search) for 8-puzzle problem"
      ],
      "metadata": {
        "id": "r13ZT7wpIsMC"
      }
    },
    {
      "cell_type": "code",
      "source": [
        "from queue import PriorityQueue\n",
        "\n",
        "def getblank_tile_idx(state):\n",
        "    return state.index(0)\n",
        "\n",
        "def get_possible_moves(state):\n",
        "    idx = getblank_tile_idx(state)\n",
        "    moves = []\n",
        "    if idx > 2:\n",
        "        nst = state[:]\n",
        "        nst[idx], nst[idx - 3] = nst[idx - 3], nst[idx]\n",
        "        moves.append((nst, 1))\n",
        "    if idx < 6:\n",
        "        nst = state[:]\n",
        "        nst[idx], nst[idx + 3] = nst[idx + 3], nst[idx]\n",
        "        moves.append((nst, 1))\n",
        "    if idx % 3 != 0:\n",
        "        nst = state[:]\n",
        "        nst[idx], nst[idx - 1] = nst[idx - 1], nst[idx]\n",
        "        moves.append((nst, 1))\n",
        "    if idx % 3 != 2:\n",
        "        nst = state[:]\n",
        "        nst[idx], nst[idx + 1] = nst[idx + 1], nst[idx]\n",
        "        moves.append((nst, 1))\n",
        "    return moves\n",
        "\n",
        "def manhattan(state):\n",
        "    goal = [1, 2, 3, 4, 5, 6, 7, 8, 0]\n",
        "    distance = 0\n",
        "    for i in range(3):\n",
        "      for j in range(3):\n",
        "        if state[i*3+j] != 0:\n",
        "          goal_i, goal_j = divmod(state[i*3+j]-1, 3)\n",
        "          distance += abs(i-goal_i) + abs(j-goal_j)\n",
        "    return distance\n",
        "\n",
        "def lcs(initial):\n",
        "  frontier = PriorityQueue()\n",
        "  frontier.put((0, initial))\n",
        "  explored = set()\n",
        "  while not frontier.empty():\n",
        "    h, curr = frontier.get()\n",
        "    explored.add(tuple(curr))\n",
        "    if curr == [1, 2, 3, 4, 5, 6, 7, 8, 0]:\n",
        "      return curr\n",
        "    for nxt, cost in get_possible_moves(curr):\n",
        "      if tuple(nxt) not in explored:\n",
        "        frontier.put((h+cost, nxt))\n",
        "  return None\n",
        "\n",
        "initial = [1, 2, 3, 4, 0, 5, 7, 8, 6]\n",
        "solution = lcs(initial)\n",
        "if solution:\n",
        "  print(\"Solution found:\", solution)\n",
        "else:\n",
        "  print(\"Solution not found.\")"
      ],
      "metadata": {
        "colab": {
          "base_uri": "https://localhost:8080/"
        },
        "id": "m3owuwu_I0My",
        "outputId": "3d002502-d4f9-4e81-85ec-e468382b9b60"
      },
      "execution_count": 4,
      "outputs": [
        {
          "output_type": "stream",
          "name": "stdout",
          "text": [
            "Solution found: [1, 2, 3, 4, 5, 6, 7, 8, 0]\n"
          ]
        }
      ]
    }
  ]
}