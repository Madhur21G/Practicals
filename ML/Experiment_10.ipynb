{
  "nbformat": 4,
  "nbformat_minor": 0,
  "metadata": {
    "colab": {
      "provenance": []
    },
    "kernelspec": {
      "name": "python3",
      "display_name": "Python 3"
    },
    "language_info": {
      "name": "python"
    }
  },
  "cells": [
    {
      "cell_type": "code",
      "execution_count": null,
      "metadata": {
        "id": "OVYFugfwargb"
      },
      "outputs": [],
      "source": [
        "# To classify data using Neural Network"
      ]
    },
    {
      "cell_type": "code",
      "source": [
        "import numpy as np"
      ],
      "metadata": {
        "id": "W74L6rOMbojG"
      },
      "execution_count": 1,
      "outputs": []
    },
    {
      "cell_type": "code",
      "source": [
        "X = np.array([[1,0,1,0],[1,0,1,1],[0,1,0,1]])\n",
        "y = np.array([[1],[1],[0]])"
      ],
      "metadata": {
        "id": "jFY6naALbrG8"
      },
      "execution_count": 2,
      "outputs": []
    },
    {
      "cell_type": "code",
      "source": [
        "def sigmoid(x):\n",
        "    return 1/(1+np.exp(-x))"
      ],
      "metadata": {
        "id": "pp9AmUenbtZn"
      },
      "execution_count": 3,
      "outputs": []
    },
    {
      "cell_type": "code",
      "source": [
        "def derivatives_sigmoid(x):\n",
        "    return x*(1-x)"
      ],
      "metadata": {
        "id": "j3yyKwsfbvFW"
      },
      "execution_count": 4,
      "outputs": []
    },
    {
      "cell_type": "code",
      "source": [
        "import numpy as np\n",
        "\n",
        "# Hyperparameters\n",
        "epoch = 5000  # Setting training iterations\n",
        "lr = 0.1  # Setting learning rate\n",
        "\n",
        "# Network architecture\n",
        "inputlayer_neurons = X.shape[1]  # Number of features in the dataset\n",
        "hiddenlayer_neurons = 3  # Number of hidden layers neurons\n",
        "output_neurons = 1  # Number of neurons at the output layer\n",
        "\n",
        "# Weight and bias initialization\n",
        "wh = np.random.uniform(size=(inputlayer_neurons, hiddenlayer_neurons))\n",
        "bh = np.random.uniform(size=(1, hiddenlayer_neurons))\n",
        "wout = np.random.uniform(size=(hiddenlayer_neurons, output_neurons))\n",
        "bout = np.random.uniform(size=(1, output_neurons))"
      ],
      "metadata": {
        "id": "6-Lq8uEMbxjI"
      },
      "execution_count": 5,
      "outputs": []
    },
    {
      "cell_type": "code",
      "source": [
        "for i in range(epoch):\n",
        "    # Forward  Propagation\n",
        "    hidden_layer_input1 = np.dot(X, wh)\n",
        "    hidden_layer_input = hidden_layer_input1 + bh\n",
        "    hiddenlayer_activations = sigmoid(hidden_layer_input)\n",
        "    output_layer_input1 = np.dot(hiddenlayer_activations, wout)\n",
        "    output_layer_input = output_layer_input1 + bout\n",
        "    output = sigmoid(output_layer_input)\n",
        "\n",
        "\n",
        "    # Backpropagation\n",
        "    E = y - output\n",
        "    slope_output_layer = derivatives_sigmoid(output)\n",
        "    slope_hidden_layer = derivatives_sigmoid(hiddenlayer_activations)\n",
        "    d_output = E * slope_output_layer\n",
        "    Error_at_hidden_layer = d_output.dot(wout.T)\n",
        "    d_hiddenlayer = Error_at_hidden_layer * slope_hidden_layer\n",
        "    wout += hiddenlayer_activations.T.dot(d_output) * lr\n",
        "    bout += np.sum(d_output, axis=0, keepdims=True) * lr\n",
        "    wh += X.T.dot(d_hiddenlayer) * lr\n",
        "    bh += np.sum(d_hiddenlayer, axis=0, keepdims=True) * lr\n",
        "\n",
        "\n",
        "print(\"Predicted values are:\")\n",
        "print(output)"
      ],
      "metadata": {
        "colab": {
          "base_uri": "https://localhost:8080/"
        },
        "id": "hLlInRfxbzmg",
        "outputId": "35a29b4b-c6ba-4e83-9515-2d4ec4d0a6c8"
      },
      "execution_count": 6,
      "outputs": [
        {
          "output_type": "stream",
          "name": "stdout",
          "text": [
            "Predicted values are:\n",
            "[[0.97030446]\n",
            " [0.95805048]\n",
            " [0.05664265]]\n"
          ]
        }
      ]
    }
  ]
}
