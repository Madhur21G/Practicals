{
  "nbformat": 4,
  "nbformat_minor": 0,
  "metadata": {
    "colab": {
      "provenance": []
    },
    "kernelspec": {
      "name": "python3",
      "display_name": "Python 3"
    },
    "language_info": {
      "name": "python"
    }
  },
  "cells": [
    {
      "cell_type": "markdown",
      "source": [
        "Experiment - 1"
      ],
      "metadata": {
        "id": "nySsO0sBSDCA"
      }
    },
    {
      "cell_type": "code",
      "execution_count": 6,
      "metadata": {
        "colab": {
          "base_uri": "https://localhost:8080/"
        },
        "id": "E4CzyTZURqZ1",
        "outputId": "c34049e4-3841-4224-c025-b5f3dec0ac73"
      },
      "outputs": [
        {
          "output_type": "stream",
          "name": "stdout",
          "text": [
            "The sum of two numbers is :  19\n"
          ]
        }
      ],
      "source": [
        "# Write a program to add two numbers to illustrate the use of print statement.\n",
        "a = 10\n",
        "b = 9\n",
        "c = a + b\n",
        "print('The sum of two numbers is : ', c)"
      ]
    },
    {
      "cell_type": "code",
      "source": [
        "# Write a program to illustrate the use of conditional statements by checking if the input number is odd or even.\n",
        "a = 10\n",
        "if (a % 2 == 0):\n",
        "  print('Even')\n",
        "else:\n",
        "  print('Odd')"
      ],
      "metadata": {
        "colab": {
          "base_uri": "https://localhost:8080/"
        },
        "id": "DEHoVHSWSIi3",
        "outputId": "eb568d2d-641e-4559-8572-738b7b01c902"
      },
      "execution_count": 7,
      "outputs": [
        {
          "output_type": "stream",
          "name": "stdout",
          "text": [
            "Even\n"
          ]
        }
      ]
    },
    {
      "cell_type": "code",
      "source": [
        "# Write a program to illustrate the use of functions.\n",
        "def func(n):\n",
        "  if(n % 2 == 0):\n",
        "    print('Even')\n",
        "  else:\n",
        "    print('Odd')\n",
        "\n",
        "func(21)"
      ],
      "metadata": {
        "colab": {
          "base_uri": "https://localhost:8080/"
        },
        "id": "dCwLFGeESUxE",
        "outputId": "4023fa07-2c82-4d88-8283-4d7ef8a309db"
      },
      "execution_count": 8,
      "outputs": [
        {
          "output_type": "stream",
          "name": "stdout",
          "text": [
            "Odd\n"
          ]
        }
      ]
    },
    {
      "cell_type": "code",
      "source": [
        "# Write a program to access the values in a dictionary.\n",
        "dict = {'name': 'Madhur', 'age': 20, 'gender': 'Male'}\n",
        "print(dict['name'])\n",
        "print(dict['age'])\n",
        "\n",
        "dict['age'] = 22\n",
        "print(dict)"
      ],
      "metadata": {
        "colab": {
          "base_uri": "https://localhost:8080/"
        },
        "id": "R_RZOodwSr3z",
        "outputId": "9f771740-3598-4e59-803c-ad23caa8b39e"
      },
      "execution_count": 9,
      "outputs": [
        {
          "output_type": "stream",
          "name": "stdout",
          "text": [
            "Madhur\n",
            "20\n",
            "{'name': 'Madhur', 'age': 22, 'gender': 'Male'}\n"
          ]
        }
      ]
    },
    {
      "cell_type": "code",
      "source": [
        "# Write a program to perform various string operations.\n",
        "s1 = input('Enter first string : ')\n",
        "s2 = input('Enter second string : ')\n",
        "\n",
        "# Concatenate strings\n",
        "s3 = s1 + ' ' + s2\n",
        "print('Concatenated string is : ', s3)\n",
        "\n",
        "# Search a substring inside a string\n",
        "print(s3.find('Mad'))\n",
        "print(s3.find('abc'))\n",
        "\n",
        "# Replace a substring\n",
        "s4 = s3.replace('ad', 'bc')\n",
        "print(s4)"
      ],
      "metadata": {
        "colab": {
          "base_uri": "https://localhost:8080/"
        },
        "id": "ERwd2hpXTX4_",
        "outputId": "04371226-d9f5-4937-ccb7-7e59b5b0f00f"
      },
      "execution_count": 2,
      "outputs": [
        {
          "output_type": "stream",
          "name": "stdout",
          "text": [
            "Enter first string : Madhur\n",
            "Enter second string : Gupta\n",
            "Concatenated string is :  Madhur Gupta\n",
            "0\n",
            "-1\n",
            "Mbchur Gupta\n"
          ]
        }
      ]
    }
  ]
}