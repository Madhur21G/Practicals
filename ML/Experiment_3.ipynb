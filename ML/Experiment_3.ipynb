{
  "nbformat": 4,
  "nbformat_minor": 0,
  "metadata": {
    "colab": {
      "provenance": []
    },
    "kernelspec": {
      "name": "python3",
      "display_name": "Python 3"
    },
    "language_info": {
      "name": "python"
    }
  },
  "cells": [
    {
      "cell_type": "markdown",
      "source": [
        "Experiment - 3"
      ],
      "metadata": {
        "id": "PEsc3GRkW_2P"
      }
    },
    {
      "cell_type": "code",
      "execution_count": 8,
      "metadata": {
        "colab": {
          "base_uri": "https://localhost:8080/",
          "height": 489
        },
        "id": "7afCwa5tW_Iq",
        "outputId": "fbc4a60b-d6de-4149-b2dd-ad15848bc7d5"
      },
      "outputs": [
        {
          "output_type": "display_data",
          "data": {
            "text/plain": [
              "<IPython.core.display.Javascript object>"
            ],
            "application/javascript": [
              "\n",
              "    async function download(id, filename, size) {\n",
              "      if (!google.colab.kernel.accessAllowed) {\n",
              "        return;\n",
              "      }\n",
              "      const div = document.createElement('div');\n",
              "      const label = document.createElement('label');\n",
              "      label.textContent = `Downloading \"${filename}\": `;\n",
              "      div.appendChild(label);\n",
              "      const progress = document.createElement('progress');\n",
              "      progress.max = size;\n",
              "      div.appendChild(progress);\n",
              "      document.body.appendChild(div);\n",
              "\n",
              "      const buffers = [];\n",
              "      let downloaded = 0;\n",
              "\n",
              "      const channel = await google.colab.kernel.comms.open(id);\n",
              "      // Send a message to notify the kernel that we're ready.\n",
              "      channel.send({})\n",
              "\n",
              "      for await (const message of channel.messages) {\n",
              "        // Send a message to notify the kernel that we're ready.\n",
              "        channel.send({})\n",
              "        if (message.buffers) {\n",
              "          for (const buffer of message.buffers) {\n",
              "            buffers.push(buffer);\n",
              "            downloaded += buffer.byteLength;\n",
              "            progress.value = downloaded;\n",
              "          }\n",
              "        }\n",
              "      }\n",
              "      const blob = new Blob(buffers, {type: 'application/binary'});\n",
              "      const a = document.createElement('a');\n",
              "      a.href = window.URL.createObjectURL(blob);\n",
              "      a.download = filename;\n",
              "      div.appendChild(a);\n",
              "      a.click();\n",
              "      div.remove();\n",
              "    }\n",
              "  "
            ]
          },
          "metadata": {}
        },
        {
          "output_type": "display_data",
          "data": {
            "text/plain": [
              "<IPython.core.display.Javascript object>"
            ],
            "application/javascript": [
              "download(\"download_ba16dccf-a315-410f-b508-42860b5e50c9\", \"testfig.png\", 998706)"
            ]
          },
          "metadata": {}
        },
        {
          "output_type": "display_data",
          "data": {
            "text/plain": [
              "<IPython.core.display.Javascript object>"
            ],
            "application/javascript": [
              "\n",
              "    async function download(id, filename, size) {\n",
              "      if (!google.colab.kernel.accessAllowed) {\n",
              "        return;\n",
              "      }\n",
              "      const div = document.createElement('div');\n",
              "      const label = document.createElement('label');\n",
              "      label.textContent = `Downloading \"${filename}\": `;\n",
              "      div.appendChild(label);\n",
              "      const progress = document.createElement('progress');\n",
              "      progress.max = size;\n",
              "      div.appendChild(progress);\n",
              "      document.body.appendChild(div);\n",
              "\n",
              "      const buffers = [];\n",
              "      let downloaded = 0;\n",
              "\n",
              "      const channel = await google.colab.kernel.comms.open(id);\n",
              "      // Send a message to notify the kernel that we're ready.\n",
              "      channel.send({})\n",
              "\n",
              "      for await (const message of channel.messages) {\n",
              "        // Send a message to notify the kernel that we're ready.\n",
              "        channel.send({})\n",
              "        if (message.buffers) {\n",
              "          for (const buffer of message.buffers) {\n",
              "            buffers.push(buffer);\n",
              "            downloaded += buffer.byteLength;\n",
              "            progress.value = downloaded;\n",
              "          }\n",
              "        }\n",
              "      }\n",
              "      const blob = new Blob(buffers, {type: 'application/binary'});\n",
              "      const a = document.createElement('a');\n",
              "      a.href = window.URL.createObjectURL(blob);\n",
              "      a.download = filename;\n",
              "      div.appendChild(a);\n",
              "      a.click();\n",
              "      div.remove();\n",
              "    }\n",
              "  "
            ]
          },
          "metadata": {}
        },
        {
          "output_type": "display_data",
          "data": {
            "text/plain": [
              "<IPython.core.display.Javascript object>"
            ],
            "application/javascript": [
              "download(\"download_aa56fb79-86de-4ecc-b2bf-8429cd8b7c8e\", \"testfig1.png\", 50604)"
            ]
          },
          "metadata": {}
        },
        {
          "output_type": "display_data",
          "data": {
            "text/plain": [
              "<IPython.core.display.Javascript object>"
            ],
            "application/javascript": [
              "\n",
              "    async function download(id, filename, size) {\n",
              "      if (!google.colab.kernel.accessAllowed) {\n",
              "        return;\n",
              "      }\n",
              "      const div = document.createElement('div');\n",
              "      const label = document.createElement('label');\n",
              "      label.textContent = `Downloading \"${filename}\": `;\n",
              "      div.appendChild(label);\n",
              "      const progress = document.createElement('progress');\n",
              "      progress.max = size;\n",
              "      div.appendChild(progress);\n",
              "      document.body.appendChild(div);\n",
              "\n",
              "      const buffers = [];\n",
              "      let downloaded = 0;\n",
              "\n",
              "      const channel = await google.colab.kernel.comms.open(id);\n",
              "      // Send a message to notify the kernel that we're ready.\n",
              "      channel.send({})\n",
              "\n",
              "      for await (const message of channel.messages) {\n",
              "        // Send a message to notify the kernel that we're ready.\n",
              "        channel.send({})\n",
              "        if (message.buffers) {\n",
              "          for (const buffer of message.buffers) {\n",
              "            buffers.push(buffer);\n",
              "            downloaded += buffer.byteLength;\n",
              "            progress.value = downloaded;\n",
              "          }\n",
              "        }\n",
              "      }\n",
              "      const blob = new Blob(buffers, {type: 'application/binary'});\n",
              "      const a = document.createElement('a');\n",
              "      a.href = window.URL.createObjectURL(blob);\n",
              "      a.download = filename;\n",
              "      div.appendChild(a);\n",
              "      a.click();\n",
              "      div.remove();\n",
              "    }\n",
              "  "
            ]
          },
          "metadata": {}
        },
        {
          "output_type": "display_data",
          "data": {
            "text/plain": [
              "<IPython.core.display.Javascript object>"
            ],
            "application/javascript": [
              "download(\"download_72f575d9-5832-487a-a4ce-544adfb863e2\", \"testfig2.png\", 655703)"
            ]
          },
          "metadata": {}
        },
        {
          "output_type": "execute_result",
          "data": {
            "text/plain": [
              "Text(47.097222222222214, 0.5, 'Input Values')"
            ]
          },
          "metadata": {},
          "execution_count": 8
        },
        {
          "output_type": "display_data",
          "data": {
            "text/plain": [
              "<Figure size 640x480 with 1 Axes>"
            ],
            "image/png": "[encoded data removed]"
          },
          "metadata": {}
        }
      ],
      "source": [
        "# To demonstrate graphical visualizations in python using matplotlib and seaborn libraries.\\\n",
        "import matplotlib.pyplot as plt\n",
        "from google.colab import files\n",
        "\n",
        "x = [1, 2, 3, 4, 5, 6, 7, 8, 9, 10]\n",
        "y = [11, 8, 7, 7, 6, 6, 8, 2, 3, 1]\n",
        "\n",
        "plt.plot(x, y)\n",
        "\n",
        "# To save from google colab\n",
        "x = [1, 2, 3, 4, 5, 6, 7, 8, 9, 10]\n",
        "y = [1, 1, 2, 4, 5, 6, 7, 7, 8, 11]\n",
        "\n",
        "plt.plot(x, y)\n",
        "\n",
        "plt.savefig('testfig.png', dpi = 2000)\n",
        "files.download(\"testfig.png\")\n",
        "\n",
        "# Different resolutions\n",
        "plt.savefig('testfig1.png', dpi = 200)\n",
        "plt.savefig('testfig2.png', dpi = 1500)\n",
        "\n",
        "files.download(\"testfig1.png\")\n",
        "files.download('testfig2.png')\n",
        "\n",
        "# Title and axis labels, coloured plot\n",
        "x = [1, 2, 3, 4, 5, 6, 7, 8, 9, 10]\n",
        "y = [1, 8, 11, 7, 15, 21, 24, 30, 40, 50]\n",
        "\n",
        "plt.plot(x, y, color = \"Blue\")\n",
        "\n",
        "plt.title('My First Plot')\n",
        "plt.xlabel('X axis values')\n",
        "plt.ylabel('Y axis values')\n",
        "\n",
        "# Multiple line plots, different colours, with labels\n",
        "# Single x axis values\n",
        "x = [1, 2, 3, 4, 5, 6, 7, 8, 9, 10]\n",
        "\n",
        "# All line plots should have same length as the x axis values\n",
        "y1 = [1, 8, 11, 7, 15, 21, 24, 30, 30, 40]\n",
        "y2 = [1, 2, 3, 4, 5, 6, 7, 8, 9, 10]\n",
        "y3 = [3, 4, 5, 6, 2, 9, 11, 6, 0, 1]\n",
        "\n",
        "plt.plot(x, y1, color = 'green', label = 'plot 1')\n",
        "plt.plot(x, y2, color = 'red', label = 'plot 2')\n",
        "plt.plot(x, y3, color = 'blue', label = 'plot 3')\n",
        "\n",
        "plt. title('Multiple Line Plots')\n",
        "plt.legend()\n",
        "plt.xlabel('X axis values' )\n",
        "plt.ylabel('Y axis values')\n",
        "\n",
        "# Bar Plot\n",
        "x = [1, 2, 3, 4, 5, 6, 7, 8, 9, 10]\n",
        "y1 = [1, 8, 11, 7, 15, 21, 24, 30, 30, 40]\n",
        "\n",
        "plt.bar(x, y1, color = 'blue')\n",
        "plt.title('Bar Plot')\n",
        "plt.xlabel('X axis values')\n",
        "plt.ylabel('Y axis values')\n",
        "\n",
        "# Horizontal bar plot\n",
        "plt.barh(x, y1, color = \"blue\")\n",
        "plt.legend()\n",
        "plt.title('Bar Plot')\n",
        "plt.xlabel('X axis values')\n",
        "plt.ylabel('Y axis values')\n",
        "\n",
        "# Handling huge values using log\n",
        "x = [1, 2, 3, 4, 5, 6, 7, 8, 9, 10]\n",
        "y1 = [1000, 1100, 1300, 7, 1, 21, 4, 13, 9, 11]\n",
        "\n",
        "plt.bar(x, y1, color = 'green')\n",
        "plt.title('Bar Plot')\n",
        "plt.yscale('log')\n",
        "plt.legend()\n",
        "plt.xlabel('Function Values')\n",
        "plt.ylabel('Input Values')"
      ]
    },
    {
      "cell_type": "code",
      "source": [
        "import seaborn as sn\n",
        "import matplotlib.pyplot as plt\n",
        "\n",
        "values = [[12, 78, 34], [1, 1, 99], [32, 100, 0]]\n",
        "title = 'First Heatmap'\n",
        "xlabels = ['A', 'B', 'C']\n",
        "ylabels = ['D', 'E', 'F']\n",
        "\n",
        "# Plot heatmap without log scaling\n",
        "hm = sn.heatmap(data=values, annot=True, fmt='d', cbar=False,\n",
        "                xticklabels=xlabels, yticklabels=ylabels)\n",
        "\n",
        "# Set the titles and labels\n",
        "hm.set(title=title, xlabel='Horizontal', ylabel='Vertical')\n",
        "\n",
        "# Save the heatmap\n",
        "figure = hm.get_figure()\n",
        "figure.savefig('Heatmap.png', dpi=700)\n",
        "\n",
        "# Show the plot\n",
        "plt.show()\n"
      ],
      "metadata": {
        "colab": {
          "base_uri": "https://localhost:8080/",
          "height": 472
        },
        "id": "QfdLORR9eNIH",
        "outputId": "390c126e-66d9-4ae7-f221-624cfe27f32f"
      },
      "execution_count": 9,
      "outputs": [
        {
          "output_type": "display_data",
          "data": {
            "text/plain": [
              "<Figure size 640x480 with 1 Axes>"
            ],
            "image/png": "[encoded data removed]"
          },
          "metadata": {}
        }
      ]
    }
  ]
}