{
  "nbformat": 4,
  "nbformat_minor": 0,
  "metadata": {
    "colab": {
      "provenance": []
    },
    "kernelspec": {
      "name": "python3",
      "display_name": "Python 3"
    },
    "language_info": {
      "name": "python"
    }
  },
  "cells": [
    {
      "cell_type": "markdown",
      "source": [
        "Experiment - 2"
      ],
      "metadata": {
        "id": "bJCbwX3mU3iU"
      }
    },
    {
      "cell_type": "code",
      "execution_count": 2,
      "metadata": {
        "colab": {
          "base_uri": "https://localhost:8080/"
        },
        "id": "kEVSj2i4U0YQ",
        "outputId": "8418a425-ef07-41dc-e82f-8dac8f9b5893"
      },
      "outputs": [
        {
          "output_type": "stream",
          "name": "stdout",
          "text": [
            "The dimensions of arr are :  1\n",
            "The shape of arr is :  (8,)\n",
            "The datatype of arr is :  int64\n",
            "[[1 2 3]\n",
            " [4 5 6]]\n",
            "[[1 2]\n",
            " [3 4]\n",
            " [5 6]\n",
            " [7 8]]\n",
            "Dimension of arr2 is :  2\n",
            "Shape of arr2 is :  (2, 3)\n",
            "[1 2 3 4 5 6 7 8]\n",
            "[ 3  6  9 12 15 18 21 24]\n",
            " ----- \n",
            "[1 2 3 4 5 6 7 8]\n",
            "[ 1  4  9 16 25 36 49 64]\n",
            " ----- \n",
            "[1, 2, 3, 1, 2, 3]\n",
            "[1 2 3 4 5 6 7 8]\n",
            "[[1 2 3]\n",
            " [4 5 6]]\n",
            "[[10  2]\n",
            " [ 3  4]\n",
            " [ 5  6]\n",
            " [ 7  8]]\n",
            "[[10  2]\n",
            " [ 3  4]\n",
            " [ 5  6]\n",
            " [ 7  8]]\n",
            "[[99  2]\n",
            " [ 3  4]\n",
            " [ 5  6]\n",
            " [ 7  8]]\n",
            "[10  2  3  4  5  6  7  8]\n",
            "10\n",
            "[2 3]\n",
            "Even elements of arr are :  [10  2  4  6  8]\n",
            "[12  2  3  4  5  6  7  8]\n"
          ]
        }
      ],
      "source": [
        "# To understand the NumPy functions.\n",
        "import numpy as np\n",
        "\n",
        "# Create a 1D array\n",
        "arr = np.array([1, 2, 3, 4, 5, 6, 7, 8])\n",
        "# Print dimensions of array\n",
        "print('The dimensions of arr are : ', arr.ndim)\n",
        "# Print the shape of array\n",
        "print('The shape of arr is : ', arr.shape)\n",
        "# Print the datatype of array\n",
        "print('The datatype of arr is : ', arr.dtype)\n",
        "\n",
        "# Create a 2D array\n",
        "arr2 = np.array([[1,2,3], [4,5,6]])\n",
        "print(arr2)\n",
        "# Reshape an existing 1D array to 2D\n",
        "arr3 = arr.reshape((4,2))\n",
        "print(arr3)\n",
        "# Dimensions and shape of 2D array\n",
        "print('Dimension of arr2 is : ', arr2.ndim)\n",
        "print('Shape of arr2 is : ', arr2.shape)\n",
        "\n",
        "# Element wise multiplication\n",
        "print(arr)\n",
        "print(arr * 3)\n",
        "# Element wise square of a numpy array\n",
        "print(' ----- ')\n",
        "print(arr)\n",
        "print(arr ** 2)\n",
        "# Multiplying a python list DOES NOT perform element wise multiplication\n",
        "# Instead it creates duplicate copies for each element of list\n",
        "print(' ----- ')\n",
        "print([1, 2, 3] * 2)\n",
        "# Change an element of numpy array\n",
        "# Changes are reflected in reshaped numpy array also\n",
        "print(arr)\n",
        "arr[0] = 10\n",
        "print(arr2)\n",
        "print(arr3)\n",
        "\n",
        "arr4 = arr.reshape(4,2).copy()\n",
        "print(arr4)\n",
        "# Changing contents of c does not change a because c is a copy of a\n",
        "arr4[0][0] = 99\n",
        "print(arr4)\n",
        "print(arr)\n",
        "\n",
        "# Print a specific element\n",
        "print(arr[0])\n",
        "# Print multiple elements at specific index 1 and 2\n",
        "print(arr[np.array([1,2])])\n",
        "# Print numpy array elements according to a condition\n",
        "print('Even elements of arr are : ', arr[arr % 2 == 0])\n",
        "# Conditional assignment of values\n",
        "arr[arr == 10] = 12\n",
        "print(arr)"
      ]
    }
  ]
}